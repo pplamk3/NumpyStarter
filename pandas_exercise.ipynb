{
 "cells": [
  {
   "cell_type": "code",
   "execution_count": 53,
   "metadata": {},
   "outputs": [],
   "source": [
    "# import libraries\n",
    "import pandas as pd"
   ]
  },
  {
   "cell_type": "code",
   "execution_count": 54,
   "metadata": {},
   "outputs": [],
   "source": [
    "# read a CSV format text file\n",
    "# the data is sorted by utc_time\n",
    "df = pd.read_csv('beijing_air_quality_data.csv',\n",
    "                 parse_dates=['utc_time'])"
   ]
  },
  {
   "cell_type": "code",
   "execution_count": 55,
   "metadata": {},
   "outputs": [
    {
     "data": {
      "text/html": [
       "<div>\n",
       "<style scoped>\n",
       "    .dataframe tbody tr th:only-of-type {\n",
       "        vertical-align: middle;\n",
       "    }\n",
       "\n",
       "    .dataframe tbody tr th {\n",
       "        vertical-align: top;\n",
       "    }\n",
       "\n",
       "    .dataframe thead th {\n",
       "        text-align: right;\n",
       "    }\n",
       "</style>\n",
       "<table border=\"1\" class=\"dataframe\">\n",
       "  <thead>\n",
       "    <tr style=\"text-align: right;\">\n",
       "      <th></th>\n",
       "      <th>site_id</th>\n",
       "      <th>utc_time</th>\n",
       "      <th>epoch_time</th>\n",
       "      <th>lat</th>\n",
       "      <th>lon</th>\n",
       "      <th>sitetype</th>\n",
       "      <th>pm25</th>\n",
       "      <th>pm10</th>\n",
       "      <th>no2</th>\n",
       "      <th>co</th>\n",
       "      <th>o3</th>\n",
       "      <th>so2</th>\n",
       "      <th>weather</th>\n",
       "      <th>temperature</th>\n",
       "      <th>pressure</th>\n",
       "      <th>humidity</th>\n",
       "      <th>wind_direction</th>\n",
       "      <th>wind_speed_kmph</th>\n",
       "    </tr>\n",
       "  </thead>\n",
       "  <tbody>\n",
       "    <tr>\n",
       "      <td>0</td>\n",
       "      <td>dongsi_aq</td>\n",
       "      <td>2018-04-28 00:00:00</td>\n",
       "      <td>1524873600</td>\n",
       "      <td>39.93</td>\n",
       "      <td>116.42</td>\n",
       "      <td>Urban Stations</td>\n",
       "      <td>59.0</td>\n",
       "      <td>172.0</td>\n",
       "      <td>96.0</td>\n",
       "      <td>0.8</td>\n",
       "      <td>8.0</td>\n",
       "      <td>5.0</td>\n",
       "      <td>CLEAR_DAY</td>\n",
       "      <td>17.03</td>\n",
       "      <td>1006.54</td>\n",
       "      <td>40.47</td>\n",
       "      <td>101.19</td>\n",
       "      <td>2.77</td>\n",
       "    </tr>\n",
       "    <tr>\n",
       "      <td>1</td>\n",
       "      <td>tiantan_aq</td>\n",
       "      <td>2018-04-28 00:00:00</td>\n",
       "      <td>1524873600</td>\n",
       "      <td>39.89</td>\n",
       "      <td>116.41</td>\n",
       "      <td>Urban Stations</td>\n",
       "      <td>52.0</td>\n",
       "      <td>187.0</td>\n",
       "      <td>104.0</td>\n",
       "      <td>0.8</td>\n",
       "      <td>3.0</td>\n",
       "      <td>5.0</td>\n",
       "      <td>CLEAR_DAY</td>\n",
       "      <td>17.09</td>\n",
       "      <td>1006.78</td>\n",
       "      <td>40.85</td>\n",
       "      <td>104.62</td>\n",
       "      <td>2.34</td>\n",
       "    </tr>\n",
       "    <tr>\n",
       "      <td>2</td>\n",
       "      <td>guanyuan_aq</td>\n",
       "      <td>2018-04-28 00:00:00</td>\n",
       "      <td>1524873600</td>\n",
       "      <td>39.93</td>\n",
       "      <td>116.34</td>\n",
       "      <td>Urban Stations</td>\n",
       "      <td>54.0</td>\n",
       "      <td>165.0</td>\n",
       "      <td>91.0</td>\n",
       "      <td>0.6</td>\n",
       "      <td>13.0</td>\n",
       "      <td>7.0</td>\n",
       "      <td>CLEAR_DAY</td>\n",
       "      <td>17.24</td>\n",
       "      <td>1004.53</td>\n",
       "      <td>40.50</td>\n",
       "      <td>89.65</td>\n",
       "      <td>2.86</td>\n",
       "    </tr>\n",
       "    <tr>\n",
       "      <td>3</td>\n",
       "      <td>wanshouxigong_aq</td>\n",
       "      <td>2018-04-28 00:00:00</td>\n",
       "      <td>1524873600</td>\n",
       "      <td>39.88</td>\n",
       "      <td>116.35</td>\n",
       "      <td>Urban Stations</td>\n",
       "      <td>51.0</td>\n",
       "      <td>184.0</td>\n",
       "      <td>93.0</td>\n",
       "      <td>0.9</td>\n",
       "      <td>6.0</td>\n",
       "      <td>5.0</td>\n",
       "      <td>CLEAR_DAY</td>\n",
       "      <td>17.30</td>\n",
       "      <td>1005.60</td>\n",
       "      <td>40.86</td>\n",
       "      <td>102.21</td>\n",
       "      <td>2.46</td>\n",
       "    </tr>\n",
       "    <tr>\n",
       "      <td>4</td>\n",
       "      <td>aotizhongxin_aq</td>\n",
       "      <td>2018-04-28 00:00:00</td>\n",
       "      <td>1524873600</td>\n",
       "      <td>39.98</td>\n",
       "      <td>116.40</td>\n",
       "      <td>Urban Stations</td>\n",
       "      <td>58.0</td>\n",
       "      <td>134.0</td>\n",
       "      <td>86.0</td>\n",
       "      <td>0.7</td>\n",
       "      <td>6.0</td>\n",
       "      <td>3.0</td>\n",
       "      <td>CLEAR_DAY</td>\n",
       "      <td>16.98</td>\n",
       "      <td>1005.89</td>\n",
       "      <td>39.64</td>\n",
       "      <td>82.69</td>\n",
       "      <td>3.62</td>\n",
       "    </tr>\n",
       "    <tr>\n",
       "      <td>...</td>\n",
       "      <td>...</td>\n",
       "      <td>...</td>\n",
       "      <td>...</td>\n",
       "      <td>...</td>\n",
       "      <td>...</td>\n",
       "      <td>...</td>\n",
       "      <td>...</td>\n",
       "      <td>...</td>\n",
       "      <td>...</td>\n",
       "      <td>...</td>\n",
       "      <td>...</td>\n",
       "      <td>...</td>\n",
       "      <td>...</td>\n",
       "      <td>...</td>\n",
       "      <td>...</td>\n",
       "      <td>...</td>\n",
       "      <td>...</td>\n",
       "      <td>...</td>\n",
       "    </tr>\n",
       "    <tr>\n",
       "      <td>30235</td>\n",
       "      <td>qianmen_aq</td>\n",
       "      <td>2018-06-02 23:00:00</td>\n",
       "      <td>1527980400</td>\n",
       "      <td>39.90</td>\n",
       "      <td>116.39</td>\n",
       "      <td>Stations Near Traffic</td>\n",
       "      <td>NaN</td>\n",
       "      <td>NaN</td>\n",
       "      <td>NaN</td>\n",
       "      <td>NaN</td>\n",
       "      <td>NaN</td>\n",
       "      <td>NaN</td>\n",
       "      <td>CLOUDY</td>\n",
       "      <td>23.38</td>\n",
       "      <td>1002.15</td>\n",
       "      <td>27.19</td>\n",
       "      <td>25.17</td>\n",
       "      <td>4.48</td>\n",
       "    </tr>\n",
       "    <tr>\n",
       "      <td>30236</td>\n",
       "      <td>yongdingmennei_aq</td>\n",
       "      <td>2018-06-02 23:00:00</td>\n",
       "      <td>1527980400</td>\n",
       "      <td>39.88</td>\n",
       "      <td>116.39</td>\n",
       "      <td>Stations Near Traffic</td>\n",
       "      <td>NaN</td>\n",
       "      <td>NaN</td>\n",
       "      <td>NaN</td>\n",
       "      <td>NaN</td>\n",
       "      <td>NaN</td>\n",
       "      <td>NaN</td>\n",
       "      <td>CLOUDY</td>\n",
       "      <td>23.91</td>\n",
       "      <td>1002.20</td>\n",
       "      <td>27.43</td>\n",
       "      <td>63.47</td>\n",
       "      <td>4.21</td>\n",
       "    </tr>\n",
       "    <tr>\n",
       "      <td>30237</td>\n",
       "      <td>xizhimenbei_aq</td>\n",
       "      <td>2018-06-02 23:00:00</td>\n",
       "      <td>1527980400</td>\n",
       "      <td>39.95</td>\n",
       "      <td>116.35</td>\n",
       "      <td>Stations Near Traffic</td>\n",
       "      <td>NaN</td>\n",
       "      <td>NaN</td>\n",
       "      <td>NaN</td>\n",
       "      <td>NaN</td>\n",
       "      <td>NaN</td>\n",
       "      <td>NaN</td>\n",
       "      <td>CLOUDY</td>\n",
       "      <td>24.08</td>\n",
       "      <td>999.61</td>\n",
       "      <td>28.76</td>\n",
       "      <td>6.12</td>\n",
       "      <td>6.62</td>\n",
       "    </tr>\n",
       "    <tr>\n",
       "      <td>30238</td>\n",
       "      <td>nansanhuan_aq</td>\n",
       "      <td>2018-06-02 23:00:00</td>\n",
       "      <td>1527980400</td>\n",
       "      <td>39.86</td>\n",
       "      <td>116.37</td>\n",
       "      <td>Stations Near Traffic</td>\n",
       "      <td>NaN</td>\n",
       "      <td>NaN</td>\n",
       "      <td>NaN</td>\n",
       "      <td>NaN</td>\n",
       "      <td>NaN</td>\n",
       "      <td>NaN</td>\n",
       "      <td>CLOUDY</td>\n",
       "      <td>24.03</td>\n",
       "      <td>1002.18</td>\n",
       "      <td>27.55</td>\n",
       "      <td>96.77</td>\n",
       "      <td>3.62</td>\n",
       "    </tr>\n",
       "    <tr>\n",
       "      <td>30239</td>\n",
       "      <td>dongsihuan_aq</td>\n",
       "      <td>2018-06-02 23:00:00</td>\n",
       "      <td>1527980400</td>\n",
       "      <td>39.94</td>\n",
       "      <td>116.48</td>\n",
       "      <td>Stations Near Traffic</td>\n",
       "      <td>NaN</td>\n",
       "      <td>NaN</td>\n",
       "      <td>NaN</td>\n",
       "      <td>NaN</td>\n",
       "      <td>NaN</td>\n",
       "      <td>NaN</td>\n",
       "      <td>CLOUDY</td>\n",
       "      <td>24.10</td>\n",
       "      <td>1003.36</td>\n",
       "      <td>28.31</td>\n",
       "      <td>78.99</td>\n",
       "      <td>4.61</td>\n",
       "    </tr>\n",
       "  </tbody>\n",
       "</table>\n",
       "<p>30240 rows × 18 columns</p>\n",
       "</div>"
      ],
      "text/plain": [
       "                 site_id            utc_time  epoch_time    lat     lon  \\\n",
       "0              dongsi_aq 2018-04-28 00:00:00  1524873600  39.93  116.42   \n",
       "1             tiantan_aq 2018-04-28 00:00:00  1524873600  39.89  116.41   \n",
       "2            guanyuan_aq 2018-04-28 00:00:00  1524873600  39.93  116.34   \n",
       "3       wanshouxigong_aq 2018-04-28 00:00:00  1524873600  39.88  116.35   \n",
       "4        aotizhongxin_aq 2018-04-28 00:00:00  1524873600  39.98  116.40   \n",
       "...                  ...                 ...         ...    ...     ...   \n",
       "30235         qianmen_aq 2018-06-02 23:00:00  1527980400  39.90  116.39   \n",
       "30236  yongdingmennei_aq 2018-06-02 23:00:00  1527980400  39.88  116.39   \n",
       "30237     xizhimenbei_aq 2018-06-02 23:00:00  1527980400  39.95  116.35   \n",
       "30238      nansanhuan_aq 2018-06-02 23:00:00  1527980400  39.86  116.37   \n",
       "30239      dongsihuan_aq 2018-06-02 23:00:00  1527980400  39.94  116.48   \n",
       "\n",
       "                    sitetype  pm25   pm10    no2   co    o3  so2    weather  \\\n",
       "0             Urban Stations  59.0  172.0   96.0  0.8   8.0  5.0  CLEAR_DAY   \n",
       "1             Urban Stations  52.0  187.0  104.0  0.8   3.0  5.0  CLEAR_DAY   \n",
       "2             Urban Stations  54.0  165.0   91.0  0.6  13.0  7.0  CLEAR_DAY   \n",
       "3             Urban Stations  51.0  184.0   93.0  0.9   6.0  5.0  CLEAR_DAY   \n",
       "4             Urban Stations  58.0  134.0   86.0  0.7   6.0  3.0  CLEAR_DAY   \n",
       "...                      ...   ...    ...    ...  ...   ...  ...        ...   \n",
       "30235  Stations Near Traffic   NaN    NaN    NaN  NaN   NaN  NaN     CLOUDY   \n",
       "30236  Stations Near Traffic   NaN    NaN    NaN  NaN   NaN  NaN     CLOUDY   \n",
       "30237  Stations Near Traffic   NaN    NaN    NaN  NaN   NaN  NaN     CLOUDY   \n",
       "30238  Stations Near Traffic   NaN    NaN    NaN  NaN   NaN  NaN     CLOUDY   \n",
       "30239  Stations Near Traffic   NaN    NaN    NaN  NaN   NaN  NaN     CLOUDY   \n",
       "\n",
       "       temperature  pressure  humidity  wind_direction  wind_speed_kmph  \n",
       "0            17.03   1006.54     40.47          101.19             2.77  \n",
       "1            17.09   1006.78     40.85          104.62             2.34  \n",
       "2            17.24   1004.53     40.50           89.65             2.86  \n",
       "3            17.30   1005.60     40.86          102.21             2.46  \n",
       "4            16.98   1005.89     39.64           82.69             3.62  \n",
       "...            ...       ...       ...             ...              ...  \n",
       "30235        23.38   1002.15     27.19           25.17             4.48  \n",
       "30236        23.91   1002.20     27.43           63.47             4.21  \n",
       "30237        24.08    999.61     28.76            6.12             6.62  \n",
       "30238        24.03   1002.18     27.55           96.77             3.62  \n",
       "30239        24.10   1003.36     28.31           78.99             4.61  \n",
       "\n",
       "[30240 rows x 18 columns]"
      ]
     },
     "execution_count": 55,
     "metadata": {},
     "output_type": "execute_result"
    }
   ],
   "source": [
    "df"
   ]
  },
  {
   "cell_type": "code",
   "execution_count": 56,
   "metadata": {
    "scrolled": false
   },
   "outputs": [
    {
     "data": {
      "text/plain": [
       "21.957699735449886"
      ]
     },
     "execution_count": 56,
     "metadata": {},
     "output_type": "execute_result"
    }
   ],
   "source": [
    "# for temperature: mean\n",
    "df['temperature'].mean()"
   ]
  },
  {
   "cell_type": "code",
   "execution_count": 57,
   "metadata": {},
   "outputs": [
    {
     "data": {
      "text/plain": [
       "5.41608836292254"
      ]
     },
     "execution_count": 57,
     "metadata": {},
     "output_type": "execute_result"
    }
   ],
   "source": [
    "# for temperature: standard deviation\n",
    "df['temperature'].std()"
   ]
  },
  {
   "cell_type": "code",
   "execution_count": 58,
   "metadata": {},
   "outputs": [
    {
     "data": {
      "text/plain": [
       "35.77647850529123"
      ]
     },
     "execution_count": 58,
     "metadata": {},
     "output_type": "execute_result"
    }
   ],
   "source": [
    "# for humidity: mean\n",
    "df['humidity'].mean()"
   ]
  },
  {
   "cell_type": "code",
   "execution_count": 59,
   "metadata": {},
   "outputs": [
    {
     "data": {
      "text/plain": [
       "19.158965495323788"
      ]
     },
     "execution_count": 59,
     "metadata": {},
     "output_type": "execute_result"
    }
   ],
   "source": [
    "# for humidity: standard deviation\n",
    "df['humidity'].std()"
   ]
  },
  {
   "cell_type": "code",
   "execution_count": 60,
   "metadata": {},
   "outputs": [
    {
     "data": {
      "text/plain": [
       "35"
      ]
     },
     "execution_count": 60,
     "metadata": {},
     "output_type": "execute_result"
    }
   ],
   "source": [
    "# how many unique site_id?\n",
    "# Hint: check pd.unique method\n",
    "len(df.drop_duplicates('site_id'))"
   ]
  },
  {
   "cell_type": "code",
   "execution_count": 70,
   "metadata": {},
   "outputs": [
    {
     "data": {
      "text/plain": [
       "Timedelta('35 days 23:00:00')"
      ]
     },
     "execution_count": 70,
     "metadata": {},
     "output_type": "execute_result"
    }
   ],
   "source": [
    "# what is the range of utc_time?\n",
    "df['utc_time'].max()-df['utc_time'].min()"
   ]
  },
  {
   "cell_type": "code",
   "execution_count": 73,
   "metadata": {},
   "outputs": [
    {
     "data": {
      "text/plain": [
       "0        59.000000\n",
       "1        52.000000\n",
       "2        54.000000\n",
       "3        51.000000\n",
       "4        58.000000\n",
       "           ...    \n",
       "30235    58.937398\n",
       "30236    58.937398\n",
       "30237    58.937398\n",
       "30238    58.937398\n",
       "30239    58.937398\n",
       "Name: pm25, Length: 30240, dtype: float64"
      ]
     },
     "execution_count": 73,
     "metadata": {},
     "output_type": "execute_result"
    }
   ],
   "source": [
    "# for pm25, fill NAs with mean value\n",
    "df.pm25.fillna(df.pm25.mean())"
   ]
  },
  {
   "cell_type": "code",
   "execution_count": 76,
   "metadata": {},
   "outputs": [
    {
     "data": {
      "text/plain": [
       "63.886279357231146"
      ]
     },
     "execution_count": 76,
     "metadata": {},
     "output_type": "execute_result"
    }
   ],
   "source": [
    "# select data for a station where site_id equals to dongsi_aq\n",
    "dongsi_df = df[df['site_id'] == 'dongsi_aq']\n",
    "\n",
    "dongsi_df_pm25 = dongsi_df['pm25']\n",
    "\n",
    "# calculate the mean value of pm25 at this station\n",
    "dongsi_df_pm25.mean()\n"
   ]
  },
  {
   "cell_type": "code",
   "execution_count": 77,
   "metadata": {},
   "outputs": [
    {
     "data": {
      "text/plain": [
       "436"
      ]
     },
     "execution_count": 77,
     "metadata": {},
     "output_type": "execute_result"
    }
   ],
   "source": [
    "# calculate how many data points when pm25 >= 50 at this station\n",
    "# Hint: check count() method\n",
    "dongsi_df_pm25[dongsi_df_pm25 >= 50].count()\n"
   ]
  },
  {
   "cell_type": "code",
   "execution_count": 78,
   "metadata": {},
   "outputs": [
    {
     "data": {
      "text/plain": [
       "864"
      ]
     },
     "execution_count": 78,
     "metadata": {},
     "output_type": "execute_result"
    }
   ],
   "source": [
    "# how many NAs for pm25 values at this station\n",
    "# Hint: check isnull() method\n",
    "dongsi_df_pm25.isnull().count()"
   ]
  },
  {
   "cell_type": "code",
   "execution_count": null,
   "metadata": {},
   "outputs": [],
   "source": []
  }
 ],
 "metadata": {
  "kernelspec": {
   "display_name": "Python 3",
   "language": "python",
   "name": "python3"
  },
  "language_info": {
   "codemirror_mode": {
    "name": "ipython",
    "version": 3
   },
   "file_extension": ".py",
   "mimetype": "text/x-python",
   "name": "python",
   "nbconvert_exporter": "python",
   "pygments_lexer": "ipython3",
   "version": "3.7.4"
  }
 },
 "nbformat": 4,
 "nbformat_minor": 2
}
